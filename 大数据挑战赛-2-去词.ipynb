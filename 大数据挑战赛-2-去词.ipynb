{
 "cells": [
  {
   "cell_type": "code",
   "execution_count": 41,
   "metadata": {},
   "outputs": [
    {
     "name": "stdout",
     "output_type": "stream",
     "text": [
      "[[0. 0. 0. ... 0. 0. 0.]\n",
      " [0. 0. 0. ... 0. 0. 0.]\n",
      " [1. 0. 0. ... 0. 0. 0.]\n",
      " ...\n",
      " [1. 0. 0. ... 0. 0. 0.]\n",
      " [0. 0. 0. ... 0. 0. 0.]\n",
      " [0. 0. 0. ... 0. 0. 0.]]\n",
      "['Negative' 'Positive' 'Negative' ... 'Negative' 'Negative' 'Positive']\n"
     ]
    }
   ],
   "source": [
    "import pandas as pd\n",
    "import numpy as np\n",
    "\n",
    "# 之前出现Error tokenizing data. C error: Buffer overflow caught - possible malformed input file.添加了lineterminator参数\n",
    "\n",
    "train = pd.read_csv('train.csv', lineterminator=\"\\n\")\n",
    "# train\n",
    "\n",
    "xtrain = np.array(train['review'])\n",
    "xtrain[6]\n",
    "\n",
    "labels = np.array(train['label'])\n",
    "labels[5]\n",
    "\n",
    "xtrain_fc = []\n",
    "for each in xtrain:\n",
    "    tmp = []\n",
    "    for i in each.split(' '):\n",
    "        tmp.append(i)\n",
    "    xtrain_fc.append(tmp)\n",
    "# xtrain_fc[2]\n",
    "\n",
    "words = set([])\n",
    "for each in xtrain_fc:\n",
    "    for i in each:\n",
    "        words.add(i)\n",
    "# print(words)\n",
    "\n",
    "dic = {}\n",
    "\n",
    "k = 0\n",
    "for each in words:\n",
    "    dic[each] = k\n",
    "    k += 1\n",
    "matrix = np.zeros((len(xtrain_fc), len(words)))\n",
    "for i in range(len(xtrain_fc)):\n",
    "    for ea in xtrain_fc[i]:\n",
    "        matrix[i, dic[ea]] = 1.0\n",
    "print(matrix)\n",
    "\n",
    "x_train = np.asarray(matrix)\n",
    "x_train[0]\n",
    "y_train = np.asarray(labels)\n",
    "print(y_train)"
   ]
  },
  {
   "cell_type": "code",
   "execution_count": 42,
   "metadata": {},
   "outputs": [
    {
     "name": "stdout",
     "output_type": "stream",
     "text": [
      "10\n",
      "7\n",
      "3\n",
      "8\n",
      "6\n",
      "2\n"
     ]
    }
   ],
   "source": [
    "count = np.zeros(len(words))\n",
    "all_dic = {}\n",
    "pos_dic = {}\n",
    "neg_dic = {}\n",
    "\n",
    "for i in range(len(xtrain_fc)):\n",
    "    for each in xtrain_fc[i]:\n",
    "        all_dic[each] = all_dic.get(each, 0) + 1\n",
    "        if y_train[i] == 'Positive':\n",
    "            pos_dic[each] = pos_dic.get(each, 0) + 1\n",
    "        else:\n",
    "            neg_dic[each] = neg_dic.get(each, 0) + 1\n",
    "print(all_dic['1994'])\n",
    "print(pos_dic['1994'])\n",
    "print(neg_dic['1994'])\n",
    "print(all_dic['thank'])\n",
    "print(pos_dic['thank'])\n",
    "print(neg_dic['thank'])"
   ]
  },
  {
   "cell_type": "code",
   "execution_count": 45,
   "metadata": {},
   "outputs": [],
   "source": [
    "delit = []\n",
    "\n",
    "for each in words:\n",
    "    if 0.8 < neg_dic.get(each, 0) / pos_dic.get(each, 0.1) < 1.2:\n",
    "        delit.append(dic[each])\n",
    "xtrain = np.delete(x_train, delit, axis=1)\n",
    "ytrain = y_train"
   ]
  },
  {
   "cell_type": "code",
   "execution_count": 49,
   "metadata": {},
   "outputs": [
    {
     "name": "stdout",
     "output_type": "stream",
     "text": [
      "23097\n",
      "21555\n"
     ]
    }
   ],
   "source": [
    "print(len(x_train[0]))\n",
    "print(len(xtrain[0]))"
   ]
  },
  {
   "cell_type": "code",
   "execution_count": 50,
   "metadata": {},
   "outputs": [
    {
     "name": "stdout",
     "output_type": "stream",
     "text": [
      "Train on 4328 samples, validate on 2000 samples\n",
      "Epoch 1/20\n",
      "4328/4328 [==============================] - 4s 929us/sample - loss: 0.6724 - acc: 0.6490 - val_loss: 0.6374 - val_acc: 0.7155\n",
      "Epoch 2/20\n",
      "4328/4328 [==============================] - 3s 796us/sample - loss: 0.5759 - acc: 0.8498 - val_loss: 0.5885 - val_acc: 0.7565\n",
      "Epoch 3/20\n",
      "4328/4328 [==============================] - 3s 806us/sample - loss: 0.4736 - acc: 0.9113 - val_loss: 0.5514 - val_acc: 0.7725\n",
      "Epoch 4/20\n",
      "4328/4328 [==============================] - 4s 881us/sample - loss: 0.3826 - acc: 0.9415 - val_loss: 0.5214 - val_acc: 0.7735\n",
      "Epoch 5/20\n",
      "4328/4328 [==============================] - 3s 799us/sample - loss: 0.3040 - acc: 0.9623 - val_loss: 0.4991 - val_acc: 0.7780\n",
      "Epoch 6/20\n",
      "4328/4328 [==============================] - 3s 799us/sample - loss: 0.2375 - acc: 0.9727 - val_loss: 0.4855 - val_acc: 0.7835\n",
      "Epoch 7/20\n",
      "4328/4328 [==============================] - 4s 892us/sample - loss: 0.1845 - acc: 0.9806 - val_loss: 0.4780 - val_acc: 0.7825\n",
      "Epoch 8/20\n",
      "4328/4328 [==============================] - 4s 841us/sample - loss: 0.1430 - acc: 0.9861 - val_loss: 0.4782 - val_acc: 0.7820\n",
      "Epoch 9/20\n",
      "4328/4328 [==============================] - 4s 919us/sample - loss: 0.1110 - acc: 0.9884 - val_loss: 0.4838 - val_acc: 0.7845\n",
      "Epoch 10/20\n",
      "4328/4328 [==============================] - 4s 855us/sample - loss: 0.0854 - acc: 0.9928 - val_loss: 0.4962 - val_acc: 0.7740\n",
      "Epoch 11/20\n",
      "4328/4328 [==============================] - 3s 802us/sample - loss: 0.0657 - acc: 0.9951 - val_loss: 0.5105 - val_acc: 0.7785\n",
      "Epoch 12/20\n",
      "4328/4328 [==============================] - 4s 810us/sample - loss: 0.0505 - acc: 0.9965 - val_loss: 0.5331 - val_acc: 0.7805\n",
      "Epoch 13/20\n",
      "4328/4328 [==============================] - 3s 808us/sample - loss: 0.0390 - acc: 0.9977 - val_loss: 0.5541 - val_acc: 0.7795\n",
      "Epoch 14/20\n",
      "4328/4328 [==============================] - 4s 842us/sample - loss: 0.0298 - acc: 0.9977 - val_loss: 0.5829 - val_acc: 0.7775\n",
      "Epoch 15/20\n",
      "4328/4328 [==============================] - 3s 808us/sample - loss: 0.0229 - acc: 0.9984 - val_loss: 0.6098 - val_acc: 0.7760\n",
      "Epoch 16/20\n",
      "4328/4328 [==============================] - 4s 860us/sample - loss: 0.0176 - acc: 0.9988 - val_loss: 0.6439 - val_acc: 0.7775\n",
      "Epoch 17/20\n",
      "4328/4328 [==============================] - 4s 844us/sample - loss: 0.0134 - acc: 0.9993 - val_loss: 0.6804 - val_acc: 0.7785\n",
      "Epoch 18/20\n",
      "4328/4328 [==============================] - 4s 863us/sample - loss: 0.0102 - acc: 0.9995 - val_loss: 0.7196 - val_acc: 0.7745\n",
      "Epoch 19/20\n",
      "4328/4328 [==============================] - 4s 861us/sample - loss: 0.0079 - acc: 0.9995 - val_loss: 0.7609 - val_acc: 0.7745\n",
      "Epoch 20/20\n",
      "4328/4328 [==============================] - 5s 1ms/sample - loss: 0.0061 - acc: 0.9998 - val_loss: 0.8052 - val_acc: 0.7705\n"
     ]
    }
   ],
   "source": [
    "from tensorflow.keras import models\n",
    "from tensorflow.keras import layers\n",
    "\n",
    "# print(len(y_train))\n",
    "\n",
    "x_tr = xtrain[:-2000]\n",
    "x_test = xtrain[-2000:]\n",
    "# print(len(x_test))\n",
    "ys = []\n",
    "for each in ytrain:\n",
    "    if each == 'Positive':\n",
    "        ys.append(1.0)\n",
    "    else:\n",
    "        ys.append(0.0)\n",
    "y_tr = ys[:-2000]\n",
    "y_test = ys[-2000:]\n",
    "# print(len(y_test))\n",
    "\n",
    "model = models.Sequential()\n",
    "model.add(layers.Dense(32, activation='relu', input_shape=(len(x_tr[0]),)))\n",
    "model.add(layers.Dense(32, activation='relu'))\n",
    "model.add(layers.Dense(1, activation='sigmoid'))\n",
    "\n",
    "from tensorflow.keras import optimizers\n",
    "\n",
    "model.compile(optimizer=optimizers.RMSprop(lr=0.001), loss='binary_crossentropy', metrics=['acc'])\n",
    "\n",
    "# print(len(x_tr))\n",
    "\n",
    "history = model.fit(x_tr, y_tr, epochs=20, batch_size=512, validation_data=(x_test, y_test))"
   ]
  },
  {
   "cell_type": "code",
   "execution_count": 51,
   "metadata": {},
   "outputs": [
    {
     "data": {
      "text/plain": [
       "dict_keys(['loss', 'acc', 'val_loss', 'val_acc'])"
      ]
     },
     "execution_count": 51,
     "metadata": {},
     "output_type": "execute_result"
    }
   ],
   "source": [
    "history_dict = history.history\n",
    "history_dict.keys()"
   ]
  },
  {
   "cell_type": "code",
   "execution_count": 53,
   "metadata": {
    "scrolled": true
   },
   "outputs": [
    {
     "data": {
      "image/png": "[encoded data removed]",
      "text/plain": [
       "<Figure size 432x288 with 1 Axes>"
      ]
     },
     "metadata": {
      "needs_background": "light"
     },
     "output_type": "display_data"
    }
   ],
   "source": [
    "import matplotlib.pyplot as plt\n",
    "\n",
    "acc = history.history['acc']\n",
    "val_acc = history.history['val_acc']\n",
    "loss = history.history['loss']\n",
    "val_loss = history.history['val_loss']\n",
    "\n",
    "epochs = range(1, len(acc) + 1)\n",
    "\n",
    "# \"bo\" is for \"blue dot\"\n",
    "plt.plot(epochs, loss, 'bo', label='Training loss')\n",
    "# b is for \"solid blue line\"\n",
    "plt.plot(epochs, val_loss, 'b', label='Validation loss')\n",
    "plt.title('Training and validation loss')\n",
    "plt.xlabel('Epochs')\n",
    "plt.ylabel('Loss')\n",
    "plt.legend()\n",
    "\n",
    "plt.show()"
   ]
  },
  {
   "cell_type": "code",
   "execution_count": 54,
   "metadata": {
    "scrolled": true
   },
   "outputs": [
    {
     "data": {
      "image/png": "[encoded data removed]",
      "text/plain": [
       "<Figure size 432x288 with 1 Axes>"
      ]
     },
     "metadata": {
      "needs_background": "light"
     },
     "output_type": "display_data"
    }
   ],
   "source": [
    "plt.clf()   # clear figure\n",
    "acc_values = history_dict['acc']\n",
    "val_acc_values = history_dict['val_acc']\n",
    "\n",
    "plt.plot(epochs, acc, 'bo', label='Training acc')\n",
    "plt.plot(epochs, val_acc, 'b', label='Validation acc')\n",
    "plt.title('Training and validation accuracy')\n",
    "plt.xlabel('Epochs')\n",
    "plt.ylabel('Loss')\n",
    "plt.legend()\n",
    "\n",
    "plt.show()"
   ]
  },
  {
   "cell_type": "code",
   "execution_count": 55,
   "metadata": {
    "scrolled": true
   },
   "outputs": [],
   "source": [
    "y_predict = model.predict(x_test)"
   ]
  },
  {
   "cell_type": "code",
   "execution_count": 56,
   "metadata": {},
   "outputs": [
    {
     "name": "stdout",
     "output_type": "stream",
     "text": [
      "[0.9994718  0.08332565 0.9999871  ... 0.04053071 0.01366752 0.00468099]\n",
      "2000\n"
     ]
    }
   ],
   "source": [
    "# print(y_test)\n",
    "print(y_predict.reshape(len(y_predict)))\n",
    "y_predict = y_predict.reshape(len(y_predict))\n",
    "print(len(y_predict))"
   ]
  },
  {
   "cell_type": "code",
   "execution_count": 57,
   "metadata": {},
   "outputs": [],
   "source": [
    "y = []\n",
    "for i in range(len(y_test)):\n",
    "    if y_test[i] == 1.0:\n",
    "        y.append(2)\n",
    "    elif y_test[i] == 0.0:\n",
    "        y.append(1)"
   ]
  },
  {
   "cell_type": "code",
   "execution_count": 61,
   "metadata": {
    "scrolled": true
   },
   "outputs": [],
   "source": [
    "# print(y_test)"
   ]
  },
  {
   "cell_type": "code",
   "execution_count": 62,
   "metadata": {},
   "outputs": [],
   "source": [
    "# print(y)\n",
    "# print(y_predict)"
   ]
  },
  {
   "cell_type": "code",
   "execution_count": 60,
   "metadata": {},
   "outputs": [
    {
     "data": {
      "text/plain": [
       "0.8374074302236219"
      ]
     },
     "execution_count": 60,
     "metadata": {},
     "output_type": "execute_result"
    }
   ],
   "source": [
    "import numpy as np\n",
    "from sklearn import metrics\n",
    "y = np.array(y)\n",
    "pred = np.array(y_predict)\n",
    "fpr, tpr, thresholds = metrics.roc_curve(y, pred, pos_label=2)\n",
    "metrics.auc(fpr, tpr)"
   ]
  },
  {
   "cell_type": "code",
   "execution_count": null,
   "metadata": {},
   "outputs": [],
   "source": []
  }
 ],
 "metadata": {
  "kernelspec": {
   "display_name": "keras",
   "language": "python",
   "name": "keras"
  },
  "language_info": {
   "codemirror_mode": {
    "name": "ipython",
    "version": 3
   },
   "file_extension": ".py",
   "mimetype": "text/x-python",
   "name": "python",
   "nbconvert_exporter": "python",
   "pygments_lexer": "ipython3",
   "version": "3.7.0"
  }
 },
 "nbformat": 4,
 "nbformat_minor": 2
}
